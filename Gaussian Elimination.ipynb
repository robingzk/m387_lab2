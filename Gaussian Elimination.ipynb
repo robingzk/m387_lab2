{
 "cells": [
  {
   "cell_type": "code",
   "execution_count": 1,
   "metadata": {},
   "outputs": [],
   "source": [
    "import numpy as np\n",
    "import random\n",
    "import matplotlib.pyplot as plt"
   ]
  },
  {
   "cell_type": "markdown",
   "metadata": {},
   "source": [
    "### 2.\n",
    "In order to generate a $n\\times n$ matrix whose entries are random numbers uniformly distributed in $[-1, 1]$, we define the following function:"
   ]
  },
  {
   "cell_type": "code",
   "execution_count": 2,
   "metadata": {},
   "outputs": [],
   "source": [
    "def uniform_mat(n):\n",
    "    ''' Generate a n x n matrix with entries'''\n",
    "    a = np.zeros((n, n))\n",
    "    for i in range(n):\n",
    "        for j in range(n):\n",
    "            a[(i,j)] = random.random() * 2.0 - 1.0\n",
    "    return a"
   ]
  },
  {
   "cell_type": "markdown",
   "metadata": {},
   "source": [
    "### 3.\n",
    "We first define a function that exchanges the rows inside a mtrix. We can then define the function `gaussian_elimination`,\n",
    "which performs gaussian elimination with partial pivoting on the matrix and return the resulting upper triangular matrix."
   ]
  },
  {
   "cell_type": "code",
   "execution_count": 3,
   "metadata": {},
   "outputs": [],
   "source": [
    "def exchange_rows(mat, n, i1, i2):\n",
    "    ''' Exchange the i1-th and i2-th rows of mat '''\n",
    "    for i in range(n):\n",
    "        mat[(i1, i)], mat[(i2, i)] = mat[(i2, i)], mat[(i1, i)]\n",
    "\n",
    "def gaussian_eliminate(mat):\n",
    "    ''' Perform Gaussian elimination with partial pivoting on the square matrix mat and\n",
    "    return the upper triangular matrix U '''\n",
    "    (n, _) = mat.shape\n",
    "    for i in range(n):\n",
    "        m_value = mat[(i,i)]\n",
    "        m_index = i\n",
    "        # Find the maximal value and its index in the i-th column\n",
    "        for j in range(i,n):\n",
    "            if mat[(j,i)] > m_value:\n",
    "                m_value = mat[(j,i)]\n",
    "                m_index = j\n",
    "        # Perform row reduction\n",
    "        exchange_rows(mat, n, i, m_index)\n",
    "        for k in range(i+1, n):\n",
    "            a = mat[(k,i)] / m_value\n",
    "            mat[(k,i)] = 0\n",
    "            for j in range(i+1, n):\n",
    "                mat[(k,j)] -= mat[(i, j)] * a\n",
    "    return mat"
   ]
  },
  {
   "cell_type": "code",
   "execution_count": 4,
   "metadata": {},
   "outputs": [
    {
     "name": "stdout",
     "output_type": "stream",
     "text": [
      "[[2. 1. 1.]\n",
      " [4. 3. 3.]\n",
      " [8. 7. 9.]]\n"
     ]
    }
   ],
   "source": [
    "m = np.array(([2.0, 1.0, 1.0], [4.0, 3.0, 3.0], [8.0, 7.0, 9.0]))\n",
    "print(m)\n",
    "#m2 = gaussian_elimination(m)\n",
    "#print(m, m2)"
   ]
  },
  {
   "cell_type": "markdown",
   "metadata": {},
   "source": [
    "### 4.\n",
    "We define a function growth_factor that computes the growth factor of a matrix. Using this function, we can plot the growth factor against the matrix size."
   ]
  },
  {
   "cell_type": "code",
   "execution_count": 5,
   "metadata": {},
   "outputs": [],
   "source": [
    "def growth_factor(A):\n",
    "    amax = np.abs(A).max()\n",
    "    gaussian_eliminate(A)\n",
    "    umax = np.abs(A).max()\n",
    "    return umax / amax"
   ]
  },
  {
   "cell_type": "code",
   "execution_count": 6,
   "metadata": {},
   "outputs": [
    {
     "data": {
      "image/png": "[encoded data removed]",
      "text/plain": [
       "<matplotlib.figure.Figure at 0x7fdfe33bc4e0>"
      ]
     },
     "metadata": {},
     "output_type": "display_data"
    }
   ],
   "source": [
    "x = range(10, 1000) # takes a while\n",
    "y = [np.average([growth_factor(uniform_mat(n)) for i in range(5)]) for n in x]\n",
    "plt.xlabel('Size of the matrix')\n",
    "plt.ylabel('Growth factor')\n",
    "plt.suptitle('Size of the matrix vs growth factor, averaged over 10 matrices')\n",
    "plt.scatter(x, y, marker='.')\n",
    "plt.show()"
   ]
  },
  {
   "cell_type": "markdown",
   "metadata": {},
   "source": [
    "### 5.\n",
    "We plot the histogram for $n = 16, 32, 64$. From this, we conjecture that the probability density decays exponentially as the growth factor becomes large."
   ]
  },
  {
   "cell_type": "code",
   "execution_count": 7,
   "metadata": {
    "scrolled": true
   },
   "outputs": [
    {
     "data": {
      "image/png": "[encoded data removed]",
      "text/plain": [
       "<matplotlib.figure.Figure at 0x7fdfe335e128>"
      ]
     },
     "metadata": {},
     "output_type": "display_data"
    }
   ],
   "source": [
    "n = 16\n",
    "growth_factors = [growth_factor(uniform_mat(n)) for i in range(1000)]\n",
    "plt.hist(growth_factors, 50, log=True, normed=True)\n",
    "plt.show()"
   ]
  },
  {
   "cell_type": "code",
   "execution_count": 8,
   "metadata": {
    "scrolled": false
   },
   "outputs": [
    {
     "data": {
      "image/png": "[encoded data removed]",
      "text/plain": [
       "<matplotlib.figure.Figure at 0x7fdfe31897b8>"
      ]
     },
     "metadata": {},
     "output_type": "display_data"
    }
   ],
   "source": [
    "n = 32\n",
    "growth_factors = [growth_factor(uniform_mat(n)) for i in range(1000)]\n",
    "plt.hist(growth_factors, 50, log=True, normed=True)\n",
    "plt.show()"
   ]
  },
  {
   "cell_type": "code",
   "execution_count": 9,
   "metadata": {
    "scrolled": false
   },
   "outputs": [
    {
     "data": {
      "image/png": "[encoded data removed]",
      "text/plain": [
       "<matplotlib.figure.Figure at 0x7fdfe3041da0>"
      ]
     },
     "metadata": {},
     "output_type": "display_data"
    }
   ],
   "source": [
    "n = 64\n",
    "growth_factors = [growth_factor(uniform_mat(n)) for i in range(1000)]\n",
    "plt.hist(growth_factors, 50, log=True, normed=True)\n",
    "plt.show()"
   ]
  },
  {
   "cell_type": "markdown",
   "metadata": {},
   "source": [
    "### 6."
   ]
  },
  {
   "cell_type": "code",
   "execution_count": 10,
   "metadata": {},
   "outputs": [],
   "source": [
    "def normal_mat(n, mu=0.0, sigma=1.0):\n",
    "    ''' Generate a n x n matrix with entries given by '''\n",
    "    a = np.zeros((n, n))\n",
    "    for i in range(n):\n",
    "        for j in range(n):\n",
    "            a[(i,j)] = np.random.normal(mu, sigma)\n",
    "    return a"
   ]
  },
  {
   "cell_type": "code",
   "execution_count": 11,
   "metadata": {},
   "outputs": [
    {
     "data": {
      "image/png": "[encoded data removed]",
      "text/plain": [
       "<matplotlib.figure.Figure at 0x7fdfe2e87ba8>"
      ]
     },
     "metadata": {},
     "output_type": "display_data"
    }
   ],
   "source": [
    "x = range(10, 1000) # takes a while\n",
    "y = [np.average([growth_factor(normal_mat(n)) for i in range(5)]) for n in x]\n",
    "plt.xlabel('Size of the matrix')\n",
    "plt.ylabel('Growth factor')\n",
    "plt.suptitle('Size of the matrix vs growth factor, averaged over 10 matrices')\n",
    "plt.scatter(x, y, marker='.')\n",
    "plt.show()"
   ]
  },
  {
   "cell_type": "markdown",
   "metadata": {},
   "source": [
    "We plot the histogram for $n = 16, 32, 64$. From this, we conjecture that the probability density decays exponentially as the growth factor becomes large."
   ]
  },
  {
   "cell_type": "code",
   "execution_count": 12,
   "metadata": {
    "scrolled": true
   },
   "outputs": [
    {
     "data": {
      "image/png": "[encoded data removed]",
      "text/plain": [
       "<matplotlib.figure.Figure at 0x7fdfe30cb3c8>"
      ]
     },
     "metadata": {},
     "output_type": "display_data"
    }
   ],
   "source": [
    "n = 16\n",
    "growth_factors = [growth_factor(normal_mat(n)) for i in range(1000)]\n",
    "plt.hist(growth_factors, 50, log=True, normed=True)\n",
    "plt.show()"
   ]
  },
  {
   "cell_type": "code",
   "execution_count": 13,
   "metadata": {
    "scrolled": false
   },
   "outputs": [
    {
     "data": {
      "image/png": "[encoded data removed]",
      "text/plain": [
       "<matplotlib.figure.Figure at 0x7fdfe2fec0f0>"
      ]
     },
     "metadata": {},
     "output_type": "display_data"
    }
   ],
   "source": [
    "n = 32\n",
    "growth_factors = [growth_factor(normal_mat(n)) for i in range(1000)]\n",
    "plt.hist(growth_factors, 50, log=True, normed=True)\n",
    "plt.show()"
   ]
  },
  {
   "cell_type": "code",
   "execution_count": 14,
   "metadata": {
    "scrolled": false
   },
   "outputs": [
    {
     "data": {
      "image/png": "[encoded data removed]",
      "text/plain": [
       "<matplotlib.figure.Figure at 0x7fdfe2fc6ef0>"
      ]
     },
     "metadata": {},
     "output_type": "display_data"
    }
   ],
   "source": [
    "n = 64\n",
    "growth_factors = [growth_factor(normal_mat(n)) for i in range(1000)]\n",
    "plt.hist(growth_factors, 50, log=True, normed=True)\n",
    "plt.show()"
   ]
  }
 ],
 "metadata": {
  "kernelspec": {
   "display_name": "Python 3",
   "language": "python",
   "name": "python3"
  },
  "language_info": {
   "codemirror_mode": {
    "name": "ipython",
    "version": 3
   },
   "file_extension": ".py",
   "mimetype": "text/x-python",
   "name": "python",
   "nbconvert_exporter": "python",
   "pygments_lexer": "ipython3",
   "version": "3.6.4"
  }
 },
 "nbformat": 4,
 "nbformat_minor": 2
}
